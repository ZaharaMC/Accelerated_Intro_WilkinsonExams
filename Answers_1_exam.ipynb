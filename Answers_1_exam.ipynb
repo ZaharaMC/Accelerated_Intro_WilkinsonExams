{
 "cells": [
  {
   "cell_type": "markdown",
   "metadata": {},
   "source": [
    "PROBLEM 2"
   ]
  },
  {
   "cell_type": "markdown",
   "metadata": {},
   "source": [
    "osboxes@osboxes ~/BioinformaticsCourseGit/ZMC_Bioinformatics $ cd Accelerated_Intro_WilkinsonExams/"
   ]
  },
  {
   "cell_type": "markdown",
   "metadata": {},
   "source": [
    "osboxes@osboxes ~/BioinformaticsCourseGit/ZMC_Bioinformatics/Accelerated_Intro_WilkinsonExams $ ls -lh\n",
    "total 2.4M\n",
    "-rw-rw-r-- 1 osboxes osboxes 1.3K Sep  5 10:01 Answers_1_exam.ipynb\n",
    "-rw-rw-r-- 1 osboxes osboxes 1.2M Sep  5 05:38 conv.txt\n",
    "-rw-rw-r-- 1 osboxes osboxes  147 Sep  5 05:38 DISCLAIMER\n",
    "-rw-rw-r-- 1 osboxes osboxes 4.9K Sep  5 09:31 Exam Week 1.ipynb\n",
    "-rw-rw-r-- 1 osboxes osboxes 4.3K Sep  5 05:38 Exam Week 2.ipynb\n",
    "-rw-rw-r-- 1 osboxes osboxes 4.2K Sep  5 05:38 Germplasm.tsv\n",
    "-rw-rw-r-- 1 osboxes osboxes  141 Sep  5 05:38 how_to_convert.txt\n",
    "-rw-rw-r-- 1 osboxes osboxes 1.1K Sep  5 05:38 LICENSE\n",
    "-rw-rw-r-- 1 osboxes osboxes  637 Sep  5 09:31 LocusGene.tsv\n",
    "-rw-rw-r-- 1 osboxes osboxes 1.2M Sep  5 09:31 Locus_Germplasm_Phenotype_20130122.txt\n",
    "-rw-rw-r-- 1 osboxes osboxes  743 Sep  5 09:31 README.md\n"
   ]
  },
  {
   "cell_type": "markdown",
   "metadata": {},
   "source": [
    "File owner is Oxboxes. Osboxes user and Osboxes group have both permision to read and write but not to execute. Anyone has permission to read only."
   ]
  },
  {
   "cell_type": "markdown",
   "metadata": {},
   "source": [
    "PROBLEM 3"
   ]
  },
  {
   "cell_type": "markdown",
   "metadata": {},
   "source": [
    "osboxes@osboxes ~/BioinformaticsCourseGit/ZMC_Bioinformatics/Accelerated_Intro_WilkinsonExams $ head -1 Locus_Germplasm_Phenotype_20130122.txt \n",
    "Locus_name)\tGermplasm_name\tphenotype\tpubmed_id\n"
   ]
  },
  {
   "cell_type": "markdown",
   "metadata": {},
   "source": [
    "PROBLEM 4"
   ]
  },
  {
   "cell_type": "markdown",
   "metadata": {},
   "source": [
    "osboxes@osboxes ~/BioinformaticsCourseGit/ZMC_Bioinformatics/Accelerated_Intro_WilkinsonExams $ wc -l Locus_Germplasm_Phenotype_20130122.txt \n",
    "7216 Locus_Germplasm_Phenotype_20130122.txt\n"
   ]
  },
  {
   "cell_type": "markdown",
   "metadata": {},
   "source": [
    "PROBLEM 5"
   ]
  },
  {
   "cell_type": "markdown",
   "metadata": {},
   "source": [
    "osboxes@osboxes ~/BioinformaticsCourseGit/ZMC_Bioinformatics/Accelerated_Intro_WilkinsonExams $ tail -7215 Locus_Germplasm_Phenotype_20130122.txt > Data_Only.csv\n"
   ]
  },
  {
   "cell_type": "markdown",
   "metadata": {},
   "source": [
    "PROBLEM 6"
   ]
  },
  {
   "cell_type": "markdown",
   "metadata": {},
   "source": [
    "osboxes@osboxes ~/BioinformaticsCourseGit/ZMC_Bioinformatics/Accelerated_Intro_WilkinsonExams $ grep -n root Locus_Germplasm_Phenotype_20130122.txt "
   ]
  },
  {
   "cell_type": "markdown",
   "metadata": {},
   "source": [
    "PROBLEM 7"
   ]
  },
  {
   "cell_type": "markdown",
   "metadata": {},
   "source": []
  }
 ],
 "metadata": {
  "kernelspec": {
   "display_name": "Bash",
   "language": "bash",
   "name": "bash"
  },
  "language_info": {
   "codemirror_mode": "shell",
   "file_extension": ".sh",
   "mimetype": "text/x-sh",
   "name": "bash"
  }
 },
 "nbformat": 4,
 "nbformat_minor": 2
}
